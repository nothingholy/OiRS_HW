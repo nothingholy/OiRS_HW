{
  "nbformat": 4,
  "nbformat_minor": 0,
  "metadata": {
    "colab": {
      "name": "Copy of oirs_hw_3.ipynb",
      "provenance": [],
      "collapsed_sections": []
    },
    "kernelspec": {
      "name": "python3",
      "display_name": "Python 3"
    },
    "language_info": {
      "name": "python"
    },
    "accelerator": "GPU"
  },
  "cells": [
    {
      "cell_type": "markdown",
      "source": [
        "# Домашнее задание 3. Свёрточные и рекуррентные нейронные сети\n",
        "## Першаев Никита ИУ8-83"
      ],
      "metadata": {
        "id": "7uLSt3vBI0zr"
      }
    },
    {
      "cell_type": "markdown",
      "source": [
        "В зависимости от варианта, для решения задачи используйте следующие наборы данных:\n",
        "\n",
        "<table>\n",
        "    <thead>\n",
        "         <tr>\n",
        "            <th colspan=1>Задача генерации</th>\n",
        "            <th colspan=5>Задача классификации</th>\n",
        "        </tr>\n",
        "        <tr>\n",
        "            <th> </th>\n",
        "            <th>A</th>\n",
        "            <th>B</th>\n",
        "            <th>C</th>\n",
        "            <th>D</th>\n",
        "            <th>E</th>\n",
        "        </tr>\n",
        "    </thead>\n",
        "    <tbody>\n",
        "        <tr>\n",
        "            <td>K</td>\n",
        "            <td>1</td>\n",
        "            <td>2</td>\n",
        "            <td>3</td>\n",
        "            <td>4</td>\n",
        "            <td>5</td>\n",
        "        </tr>\n",
        "        <tr>\n",
        "            <td>L</td>\n",
        "            <td>6</td>\n",
        "            <td>7</td>\n",
        "            <td>8</td>\n",
        "            <td>9</td>\n",
        "            <td>10</td>\n",
        "        </tr>\n",
        "        <tr>\n",
        "            <td>M</td>\n",
        "            <td>11</td>\n",
        "            <td>12</td>\n",
        "            <td>13</td>\n",
        "            <td>14</td>\n",
        "            <td>15</td>\n",
        "        </tr>\n",
        "        <tr>\n",
        "            <td>N</td>\n",
        "            <td>16</td>\n",
        "            <td>17</td>\n",
        "            <td>18</td>\n",
        "            <td>19</td>\n",
        "            <td>20</td>\n",
        "        </tr>\n",
        "        <tr>\n",
        "            <td>O</td>\n",
        "            <td>21</td>\n",
        "            <td>22</td>\n",
        "            <td>23</td>\n",
        "            <td>24</td>\n",
        "            <td>25</td>\n",
        "        </tr>\n",
        "    </tbody>\n",
        "</table>\n",
        "\n",
        "### Наборы данных\n",
        "\n",
        "**Задача классификации картинок**\n",
        "\n",
        "A. [Набор данных \"Fashion MNIST\"](https://pytorch.org/vision/main/generated/torchvision.datasets.FashionMNIST.html) `torchvision.datasets.FashionMNIST train=True и False`\n",
        "\n",
        "B. [Набор данных \"Текстуры\"](https://pytorch.org/vision/main/generated/torchvision.datasets.DTD.html#torchvision.datasets.DTD) `torchvision.datasets.DTD split='train' и 'test'`\n",
        "\n",
        "C. [Набор данных \"Буквы\"](https://pytorch.org/vision/main/generated/torchvision.datasets.EMNIST.html#torchvision.datasets.EMNIST) `torchvision.datasets.EMNIST split=letters train=True и False`\n",
        "\n",
        "D. [Набор данных \"Кошки и собаки\"](https://pytorch.org/vision/main/generated/torchvision.datasets.OxfordIIITPet.html) `torchvision.datasets.OxfordIIITPet split = 'trainval' и 'test'` (объекты разбиты по породам (всего 37 пород), нужно построить бинарный классификатор собак и кошек)\n",
        "\n",
        "E. [Набор данных \"Дорожные знаки\"](https://pytorch.org/vision/main/generated/torchvision.datasets.GTSRB.html) `torchvision.datasets.GTSRB split = 'train' и 'test'`\n",
        "\n",
        "\n",
        "---\n",
        "\n",
        "**Задача генерации текстов**\n",
        "\n",
        "K. [Набор данных \"Евгений Онегин\"]() `onegin.txt`\n",
        "\n",
        "L. [Набор данных \"Война и Мир\"]() `war_and_piece.txt`\n",
        "\n",
        "M. [Набор данных \"Стихи\"]() `stihi.csv`\n",
        "\n",
        "N. [Набор данных \"Сказки\"]() `fairytales.txt`\n",
        "\n",
        "O. [Набор данных \"Новости\"]() `news.txt` или https://github.com/yutkin/Lenta.Ru-News-Dataset/releases"
      ],
      "metadata": {
        "id": "2JxNVonhRMgf"
      }
    },
    {
      "cell_type": "markdown",
      "source": [
        "# 0. Инициализация библиотек"
      ],
      "metadata": {
        "id": "zsqatIg_JBu7"
      }
    },
    {
      "cell_type": "code",
      "source": [
        "import numpy as np\n",
        "import pandas as pd\n",
        "import torch\n",
        "from torch import nn, optim\n",
        "from torch.nn import functional as F\n",
        "from torch.utils.data import Dataset, DataLoader\n",
        "import torchvision\n",
        "import matplotlib.pyplot as plt\n",
        "from collections import Counter"
      ],
      "metadata": {
        "id": "WGZt4ftTJxg4"
      },
      "execution_count": 1,
      "outputs": []
    },
    {
      "cell_type": "markdown",
      "source": [
        "# 1. Свёрточная нейронная сеть для классификации изображений (9 баллов)"
      ],
      "metadata": {
        "id": "5oGgl1uGJBxH"
      }
    },
    {
      "cell_type": "markdown",
      "source": [
        "## 1.1 Загрузка данных, разделение на train и test\n",
        "\n",
        "Загрузите данные при помощи torchvision.datasets. Можете предусмотреть опредлённые транфсофрмации картинки, например, изменение размера до 128 px, кроп по центру в 196 px и преобразование к классу torch.Tensor:\n",
        "\n",
        "```\n",
        "import torchvision\n",
        "\n",
        "\n",
        "transform = torchvision.transforms.Compose([\n",
        "    # resize\n",
        "    torchvision.transforms.Resize(128),\n",
        "    torchvision.transforms.CenterCrop(196),\n",
        "    torchvision.transforms.ToTensor()\n",
        "])\n",
        "```"
      ],
      "metadata": {
        "id": "qV47VXssLKa9"
      }
    },
    {
      "cell_type": "code",
      "source": [
        "transform = torchvision.transforms.Compose([\n",
        "    torchvision.transforms.Resize((32, 32)),\n",
        "    torchvision.transforms.ToTensor(),\n",
        "    torchvision.transforms.Normalize((0.5, 0.5, 0.5), (0.5, 0.5, 0.5))\n",
        "])\n",
        "\n",
        "train_data = torchvision.datasets.GTSRB('train_data', download=True, split='train', transform=transform)\n",
        "test_data = torchvision.datasets.GTSRB('test_data', download=True, split='test', transform=transform)"
      ],
      "metadata": {
        "id": "oq6RAl7Z1VLa"
      },
      "execution_count": 2,
      "outputs": []
    },
    {
      "cell_type": "code",
      "source": [
        "trainDataLoaded = DataLoader(\n",
        "    train_data,\n",
        "    batch_size=512,\n",
        "    shuffle=True,\n",
        "    num_workers=2\n",
        ")\n",
        "\n",
        "testDataLoaded = DataLoader(\n",
        "    test_data,\n",
        "    batch_size=512,\n",
        "    shuffle=False,\n",
        "    num_workers=2\n",
        ")"
      ],
      "metadata": {
        "id": "XjIoB9zTKAY2"
      },
      "execution_count": 3,
      "outputs": []
    },
    {
      "cell_type": "markdown",
      "source": [
        "## 1.2 Предобработка данных (по необходимости)"
      ],
      "metadata": {
        "id": "MYWcgRrZSWfY"
      }
    },
    {
      "cell_type": "code",
      "source": [
        "for x in trainDataLoaded:\n",
        "    print(type(x), type(x[0]), x[0].shape, type(x[1]), x[1].shape)\n",
        "    break"
      ],
      "metadata": {
        "id": "C-LVM7AwJ8si",
        "colab": {
          "base_uri": "https://localhost:8080/"
        },
        "outputId": "13ac20fd-97a5-4542-c46f-bf811d9f1b89"
      },
      "execution_count": 5,
      "outputs": [
        {
          "output_type": "stream",
          "name": "stdout",
          "text": [
            "<class 'list'> <class 'torch.Tensor'> torch.Size([512, 3, 32, 32]) <class 'torch.Tensor'> torch.Size([512])\n"
          ]
        }
      ]
    },
    {
      "cell_type": "markdown",
      "source": [
        "## 1.3 Инициализация объекта свёрточной нейронной сети\n",
        "\n",
        "Создайте нейронную сеть с 2-4 свёрточными слоями. В остальном конфигурация сети может быть произвольной. "
      ],
      "metadata": {
        "id": "tP7e_V16J9zV"
      }
    },
    {
      "cell_type": "code",
      "source": [
        "class Net(torch.nn.Module):\n",
        "    def __init__(self):\n",
        "        super().__init__()\n",
        "\n",
        "        self.conv_1 = torch.nn.Conv2d(3, 30, 3)\n",
        "        self.conv_2 = torch.nn.Conv2d(30, 90, 3)\n",
        "        self.conv_3 = torch.nn.Conv2d(90, 120, 3)\n",
        "        self.conv_4 = torch.nn.Conv2d(120, 180, 2)\n",
        "        \n",
        "\n",
        "        self.flatten = torch.nn.Flatten()\n",
        "        self.lin_1 = torch.nn.Linear(180, 90)\n",
        "        self.lin_2 = torch.nn.Linear(90, 43)\n",
        "\n",
        "        self.activ = torch.nn.ELU()\n",
        "        self.max_pool = torch.nn.MaxPool2d(2, 2)\n",
        "\n",
        "    def forward(self, x):\n",
        "        x = self.conv_1(x)\n",
        "        x = self.activ(x)\n",
        "        x = self.max_pool(x)\n",
        "\n",
        "        x = self.conv_2(x)\n",
        "        x = self.activ(x)\n",
        "        x = self.max_pool(x)\n",
        "\n",
        "        x = self.conv_3(x)\n",
        "        x = self.activ(x)\n",
        "        x = self.max_pool(x)\n",
        "\n",
        "        x = self.conv_4(x)\n",
        "        x = self.activ(x)\n",
        "\n",
        "        x = self.flatten(x)\n",
        "        x = self.lin_1(x)\n",
        "        x = self.activ(x)\n",
        "        x = self.lin_2(x)\n",
        "\n",
        "        return x"
      ],
      "metadata": {
        "id": "YcsgF13xhcEa"
      },
      "execution_count": 6,
      "outputs": []
    },
    {
      "cell_type": "markdown",
      "source": [
        "## 1.4 Обучение сввёрточной нейронной сети для решения задачи классификации"
      ],
      "metadata": {
        "id": "fH3m86cZKMDU"
      }
    },
    {
      "cell_type": "code",
      "source": [
        "import torchvision.models as models\n",
        "\n",
        "device = 'cuda' if torch.cuda.is_available() else 'cpu'"
      ],
      "metadata": {
        "id": "bewWzYDoME5j"
      },
      "execution_count": 4,
      "outputs": []
    },
    {
      "cell_type": "code",
      "source": [
        "model = Net().to(device)\n",
        "optimizer = torch.optim.Adam(model.parameters(), lr=0.001)\n",
        "criterion = nn.CrossEntropyLoss().to(device)\n",
        "epochs = 100\n",
        "\n",
        "train_loss = []\n",
        "train_accuracy = []\n",
        "test_loss = []\n",
        "test_accuracy = []\n",
        "\n",
        "for epoch in range(epochs):\n",
        "  model.train()\n",
        "  epoch_loss = 0\n",
        "  epoch_pred = 0\n",
        "  epoch_len = 0\n",
        "\n",
        "  for batchData, batchRes in trainDataLoaded:\n",
        "    batchData, batchRes = batchData.to(device), batchRes.to(device)\n",
        "\n",
        "    optimizer.zero_grad()\n",
        "\n",
        "    prediction = model(batchData)\n",
        "    loss = criterion(prediction, batchRes)\n",
        "    epoch_loss += loss.item()\n",
        "\n",
        "    loss.backward()\n",
        "    optimizer.step()\n",
        "\n",
        "    _, prediction = torch.max(prediction.data, 1)\n",
        "    epoch_pred += (prediction == batchRes).sum().item()\n",
        "    epoch_len += batchRes.size(0)\n",
        "\n",
        "  train_loss.append(epoch_loss / len(trainDataLoaded))\n",
        "  train_accuracy.append(epoch_pred / epoch_len)\n",
        "\n",
        "  model.eval()\n",
        "  epoch_loss = 0\n",
        "  epoch_pred = 0\n",
        "  epoch_len = 0\n",
        "\n",
        "  for batchData, batchRes in testDataLoaded:\n",
        "    batchData, batchRes = batchData.to(device), batchRes.to(device)\n",
        "    prediction = model(batchData)\n",
        "\n",
        "    loss = criterion(prediction, batchRes)\n",
        "    epoch_loss += loss.item()\n",
        "\n",
        "    _, prediction = torch.max(prediction.data, 1)\n",
        "    epoch_pred += (batchRes == prediction).sum().item()\n",
        "    epoch_len += batchRes.size(0)\n",
        "  \n",
        "  test_loss.append(epoch_loss / len(testDataLoaded))\n",
        "  test_accuracy.append(epoch_pred / epoch_len)"
      ],
      "metadata": {
        "id": "qW6LwnnQKQ04"
      },
      "execution_count": 8,
      "outputs": []
    },
    {
      "cell_type": "code",
      "source": [
        "figure = plt.figure().gca()\n",
        "figure.plot(train_accuracy)\n",
        "figure.plot(test_accuracy)\n",
        "plt.ylabel('Accuracy')\n",
        "plt.xlabel('Epoch')\n",
        "plt.legend(['train', 'test'])\n",
        "plt.title('Accuracy')\n",
        "plt.show()"
      ],
      "metadata": {
        "colab": {
          "base_uri": "https://localhost:8080/",
          "height": 295
        },
        "id": "uSJHg5S4pxxA",
        "outputId": "c51cfa44-2551-43c7-96b6-676acbbcfa35"
      },
      "execution_count": 9,
      "outputs": [
        {
          "output_type": "display_data",
          "data": {
            "text/plain": [
              "<Figure size 432x288 with 1 Axes>"
            ],
            "image/png": "[encoded data removed]"
          },
          "metadata": {
            "needs_background": "light"
          }
        }
      ]
    },
    {
      "cell_type": "code",
      "source": [
        "figure = plt.figure().gca()\n",
        "figure.plot(train_loss)\n",
        "figure.plot(test_loss)\n",
        "plt.ylabel('CrossEntropyLoss')\n",
        "plt.xlabel('Epoch')\n",
        "plt.legend(['train', 'test'])\n",
        "plt.title('CrossEntropyLoss')\n",
        "plt.show()"
      ],
      "metadata": {
        "colab": {
          "base_uri": "https://localhost:8080/",
          "height": 295
        },
        "id": "ZKco8S3sbwjN",
        "outputId": "19a10743-4471-4ea4-8301-35d0771d6f09"
      },
      "execution_count": 10,
      "outputs": [
        {
          "output_type": "display_data",
          "data": {
            "text/plain": [
              "<Figure size 432x288 with 1 Axes>"
            ],
            "image/png": "[encoded data removed]"
          },
          "metadata": {
            "needs_background": "light"
          }
        }
      ]
    },
    {
      "cell_type": "markdown",
      "source": [
        "## 1.5 Агументация данных и регулряизации нейросети\n",
        "\n",
        "Попобуйте добавить аугументацию (случайные повороты, увеличение, уменьшение) в данные, а также регуляризацию (Drop out и Batch Norm слои) в модель. Как меняется метрика accuracy на обучающей и тестовой выборке в процессе обучения? Постройте график."
      ],
      "metadata": {
        "id": "ML_5LCyrKSv9"
      }
    },
    {
      "cell_type": "code",
      "source": [
        "augmentation_transform = torchvision.transforms.Compose([\n",
        "    torchvision.transforms.Resize((48, 48)),\n",
        "    torchvision.transforms.RandomCrop((32, 32)),\n",
        "    torchvision.transforms.RandomHorizontalFlip(p=0.25),\n",
        "    torchvision.transforms.RandomVerticalFlip(p=0.25),\n",
        "    torchvision.transforms.RandomRotation(degrees=(-90, 90)),\n",
        "    torchvision.transforms.ToTensor(),\n",
        "    torchvision.transforms.Normalize((0.5, 0.5, 0.5),\n",
        "                                     (0.5, 0.5, 0.5))\n",
        "])"
      ],
      "metadata": {
        "id": "N90xjiR9Dkgb"
      },
      "execution_count": 5,
      "outputs": []
    },
    {
      "cell_type": "code",
      "source": [
        "aug_train_data = torchvision.datasets.GTSRB('train_data',\n",
        "                                            download=True,\n",
        "                                            split='train',\n",
        "                                            transform=augmentation_transform)\n",
        "\n",
        "augTrainDataLoaded = DataLoader(\n",
        "    aug_train_data,\n",
        "    batch_size=512,\n",
        "    shuffle=True,\n",
        "    num_workers=2\n",
        ")"
      ],
      "metadata": {
        "id": "LjpjrOb0cxcy"
      },
      "execution_count": 6,
      "outputs": []
    },
    {
      "cell_type": "code",
      "source": [
        "class NetReg(torch.nn.Module):\n",
        "    def __init__(self):\n",
        "        super().__init__()\n",
        "\n",
        "        self.conv_1 = torch.nn.Conv2d(3, 30, 3)\n",
        "        self.batch_1 = torch.nn.BatchNorm2d(30)\n",
        "        self.conv_2 = torch.nn.Conv2d(30, 90, 3)\n",
        "        self.batch_2 = torch.nn.BatchNorm2d(90)\n",
        "        self.conv_3 = torch.nn.Conv2d(90, 120, 3)\n",
        "        self.batch_3 = torch.nn.BatchNorm2d(120)\n",
        "        self.conv_4 = torch.nn.Conv2d(120, 180, 2)\n",
        "        \n",
        "\n",
        "        self.flatten = torch.nn.Flatten()\n",
        "        self.batch_4 = torch.nn.BatchNorm1d(180)\n",
        "        self.lin_1 = torch.nn.Linear(180, 90)\n",
        "        self.batch_5 = torch.nn.BatchNorm1d(90)\n",
        "        self.lin_2 = torch.nn.Linear(90, 43)\n",
        "\n",
        "        self.activ = torch.nn.ELU()\n",
        "        self.max_pool = torch.nn.MaxPool2d(2, 2)\n",
        "        self.dropout = torch.nn.Dropout(p=0.5)\n",
        "\n",
        "    def forward(self, x):\n",
        "        x = self.conv_1(x)\n",
        "        x = self.activ(x)\n",
        "        x = self.max_pool(x)\n",
        "        x = self.batch_1(x)\n",
        "        x = self.dropout(x)\n",
        "\n",
        "        x = self.conv_2(x)\n",
        "        x = self.activ(x)\n",
        "        x = self.max_pool(x)\n",
        "        x = self.batch_2(x)\n",
        "        x = self.dropout(x)\n",
        "\n",
        "        x = self.conv_3(x)\n",
        "        x = self.activ(x)\n",
        "        x = self.max_pool(x)\n",
        "        x = self.batch_3(x)\n",
        "        x = self.dropout(x)\n",
        "\n",
        "        x = self.conv_4(x)\n",
        "        x = self.activ(x)\n",
        "        x = self.dropout(x)\n",
        "\n",
        "        x = self.flatten(x)\n",
        "        x = self.batch_4(x)\n",
        "        x = self.lin_1(x)\n",
        "        x = self.activ(x)\n",
        "        x = self.batch_5(x)\n",
        "        x = self.dropout(x)\n",
        "        x = self.lin_2(x)\n",
        "\n",
        "        return x"
      ],
      "metadata": {
        "id": "LNI4dA7cdn4m"
      },
      "execution_count": 7,
      "outputs": []
    },
    {
      "cell_type": "markdown",
      "source": [
        "## 1.6 Обучение нейросети на данных с аугументацией "
      ],
      "metadata": {
        "id": "aTD5QBT-bsnu"
      }
    },
    {
      "cell_type": "code",
      "source": [
        "model = NetReg().to(device)\n",
        "optimizer = torch.optim.Adam(model.parameters(), lr=0.001)\n",
        "criterion = nn.CrossEntropyLoss().to(device)\n",
        "epochs = 100\n",
        "\n",
        "train_loss = []\n",
        "train_accuracy = []\n",
        "test_loss = []\n",
        "test_accuracy = []\n",
        "\n",
        "for epoch in range(epochs):\n",
        "  model.train()\n",
        "  epoch_loss = 0\n",
        "  epoch_pred = 0\n",
        "  epoch_len = 0\n",
        "\n",
        "  for batchData, batchRes in augTrainDataLoaded:\n",
        "    batchData, batchRes = batchData.to(device), batchRes.to(device)\n",
        "\n",
        "    optimizer.zero_grad()\n",
        "\n",
        "    prediction = model(batchData)\n",
        "    loss = criterion(prediction, batchRes)\n",
        "    epoch_loss += loss.item()\n",
        "\n",
        "    loss.backward()\n",
        "    optimizer.step()\n",
        "\n",
        "    _, prediction = torch.max(prediction.data, 1)\n",
        "    epoch_pred += (prediction == batchRes).sum().item()\n",
        "    epoch_len += batchRes.size(0)\n",
        "\n",
        "  train_loss.append(epoch_loss / len(trainDataLoaded))\n",
        "  train_accuracy.append(epoch_pred / epoch_len)\n",
        "\n",
        "  model.eval()\n",
        "  epoch_loss = 0\n",
        "  epoch_pred = 0\n",
        "  epoch_len = 0\n",
        "\n",
        "  for batchData, batchRes in testDataLoaded:\n",
        "    batchData, batchRes = batchData.to(device), batchRes.to(device)\n",
        "    prediction = model(batchData)\n",
        "\n",
        "    loss = criterion(prediction, batchRes)\n",
        "    epoch_loss += loss.item()\n",
        "\n",
        "    _, prediction = torch.max(prediction.data, 1)\n",
        "    epoch_pred += (batchRes == prediction).sum().item()\n",
        "    epoch_len += batchRes.size(0)\n",
        "  \n",
        "  test_loss.append(epoch_loss / len(testDataLoaded))\n",
        "  test_accuracy.append(epoch_pred / epoch_len)"
      ],
      "metadata": {
        "id": "rmlsO4C2bsii"
      },
      "execution_count": 8,
      "outputs": []
    },
    {
      "cell_type": "code",
      "source": [
        "figure = plt.figure().gca()\n",
        "figure.plot(train_accuracy)\n",
        "figure.plot(test_accuracy)\n",
        "plt.ylabel('Accuracy')\n",
        "plt.xlabel('Epoch')\n",
        "plt.legend(['train', 'test'])\n",
        "plt.title('Accuracy')\n",
        "plt.show()"
      ],
      "metadata": {
        "colab": {
          "base_uri": "https://localhost:8080/",
          "height": 295
        },
        "id": "0SE83ZXqk14v",
        "outputId": "290bfd95-8ff5-432a-a613-093e3813c6a7"
      },
      "execution_count": 9,
      "outputs": [
        {
          "output_type": "display_data",
          "data": {
            "text/plain": [
              "<Figure size 432x288 with 1 Axes>"
            ],
            "image/png": "[encoded data removed]"
          },
          "metadata": {
            "needs_background": "light"
          }
        }
      ]
    },
    {
      "cell_type": "code",
      "source": [
        "figure = plt.figure().gca()\n",
        "figure.plot(train_loss)\n",
        "figure.plot(test_loss)\n",
        "plt.ylabel('CrossEntropyLoss')\n",
        "plt.xlabel('Epoch')\n",
        "plt.legend(['train', 'test'])\n",
        "plt.title('CrossEntropyLoss')\n",
        "plt.show()"
      ],
      "metadata": {
        "colab": {
          "base_uri": "https://localhost:8080/",
          "height": 295
        },
        "id": "EecO-Lmyk4gO",
        "outputId": "b7383a67-911f-4cc2-d561-88fd192b7614"
      },
      "execution_count": 10,
      "outputs": [
        {
          "output_type": "display_data",
          "data": {
            "text/plain": [
              "<Figure size 432x288 with 1 Axes>"
            ],
            "image/png": "[encoded data removed]"
          },
          "metadata": {
            "needs_background": "light"
          }
        }
      ]
    },
    {
      "cell_type": "markdown",
      "source": [
        "## 1.7 Выводы\n",
        "\n",
        "В ходе выполнения первого номера ДЗ №3 были проведены эксперименты с агументацией данных и регуляризацией модели. Результат выполнения работы показал, что точность без аугментациии данных и без регуляризации выше, чем точность с аугментацией данных и с регуляризацией."
      ],
      "metadata": {
        "id": "uydqxWwQKWYQ"
      }
    },
    {
      "cell_type": "markdown",
      "source": [
        "# 2. Рекуррентная нейронная сеть для генерации текстов (9 баллов)"
      ],
      "metadata": {
        "id": "D5G-61iAKh0A"
      }
    },
    {
      "cell_type": "markdown",
      "source": [
        "## 2.1 Загрузка данных\n",
        "\n"
      ],
      "metadata": {
        "id": "BIVlZeMLKwc6"
      }
    },
    {
      "cell_type": "code",
      "source": [
        "from google.colab import drive\n",
        "\n",
        "drive.mount('content')"
      ],
      "metadata": {
        "id": "m0CBKtrJL9kt",
        "colab": {
          "base_uri": "https://localhost:8080/"
        },
        "outputId": "7ca08553-6221-4dd1-8f39-845f5a2ecad8"
      },
      "execution_count": 2,
      "outputs": [
        {
          "output_type": "stream",
          "name": "stdout",
          "text": [
            "Drive already mounted at content; to attempt to forcibly remount, call drive.mount(\"content\", force_remount=True).\n"
          ]
        }
      ]
    },
    {
      "cell_type": "code",
      "source": [
        "with open('/content/content/MyDrive/oirs_dataset/L_war_and_piece.txt') as text_file:\n",
        "    text_sample = text_file.readlines()\n",
        "text_sample = ' '.join(text_sample)\n",
        "\n",
        "def text_to_seq(text_sample):\n",
        "    char_counts = Counter(text_sample)\n",
        "    char_counts = sorted(char_counts.items(), key = lambda x: x[1], reverse=True)\n",
        "\n",
        "    sorted_chars = [char for char, _ in char_counts]\n",
        "    print(sorted_chars)\n",
        "    char_to_idx = {char: index for index, char in enumerate(sorted_chars)}\n",
        "    idx_to_char = {v: k for k, v in char_to_idx.items()}\n",
        "    sequence = np.array([char_to_idx[char] for char in text_sample])\n",
        "    \n",
        "    return sequence, char_to_idx, idx_to_char\n",
        "\n",
        "sequence, char_to_idx, idx_to_char = text_to_seq(text_sample)"
      ],
      "metadata": {
        "colab": {
          "base_uri": "https://localhost:8080/"
        },
        "id": "fn147XvvoskW",
        "outputId": "0e1701f2-b72d-43d4-ea49-90dc731387c5"
      },
      "execution_count": 3,
      "outputs": [
        {
          "output_type": "stream",
          "name": "stdout",
          "text": [
            "[' ', 'о', 'е', 'а', 'и', 'н', 'т', 'с', 'л', 'в', 'р', 'к', 'д', ',', 'м', 'у', 'п', 'я', '\\n', 'ы', 'ь', 'г', 'б', 'з', 'ч', '.', 'ж', '-', 'й', 'х', 'ш', 'ю', 'ц', 'щ', 'э', 'e', 'Н', 'П', 'ф', 'О', 's', 'В', 'К', 'a', 'М', 'r', 'i', 'n', 'Д', 't', 'o', 'u', '?', ';', 'l', 'И', 'С', 'Т', '!', 'm', '\"', 'А', 'd', ')', ':', '(', 'c', '[', ']', 'Р', 'Б', 'Е', '1', 'p', \"'\", 'I', 'Я', 'Ч', 'Э', 'Г', 'v', '2', 'ъ', 'é', 'Л', 'q', 'V', 'У', 'f', 'Ф', 'g', '3', 'h', 'b', 'З', '8', 'X', 'j', '4', 'Х', 'z', '0', 'M', '5', 'à', '9', 'N', '7', 'Ш', '6', 'x', 'Ж', 'C', 'L', 'ê', 'è', 'y', 'S', 'E', 'B', 'J', '*', 'O', 'D', 'Q', 'Щ', 'A', 'î', 'Ц', 'Ь', 'R', 'ç', 'K', 'ë', 'â', 'P', 'k', 'F', 'G', 'ù', 'œ', 'û', 'ô', 'T', 'Ç', 'w', 'H', 'Ю', '=', '/', '№', 'Ê']\n"
          ]
        }
      ]
    },
    {
      "cell_type": "markdown",
      "source": [
        "## 2.2 Преодбработка/нормализация данных по необходимости\n",
        "\n",
        "Например, можно привести все слова к нижнему регистру"
      ],
      "metadata": {
        "id": "v4TTaWpIKwc9"
      }
    },
    {
      "cell_type": "code",
      "source": [
        "len_seq = 256\n",
        "batch = 16\n",
        "\n",
        "def get_batch(sequence):\n",
        "    trains = []\n",
        "    targets = []\n",
        "    for _ in range(batch):\n",
        "        batch_start = np.random.randint(0, len(sequence) - len_seq)\n",
        "        chunk = sequence[batch_start: batch_start + len_seq]\n",
        "        train = torch.LongTensor(chunk[:-1]).view(-1, 1)\n",
        "        target = torch.LongTensor(chunk[1:]).view(-1, 1)\n",
        "        trains.append(train)\n",
        "        targets.append(target)\n",
        "    return torch.stack(trains, dim=0), torch.stack(targets, dim=0)"
      ],
      "metadata": {
        "id": "qtBeZ7VRVfxn"
      },
      "execution_count": 5,
      "outputs": []
    },
    {
      "cell_type": "code",
      "source": [
        "def evaluate(model, char_to_idx, idx_to_char, start_text=' ', prediction_len=200, temp=0.3):\n",
        "    hidden = model.init_hidden()\n",
        "    idx_input = [char_to_idx[char] for char in start_text]\n",
        "    train = torch.LongTensor(idx_input).view(-1, 1, 1).to(device)\n",
        "    predicted_text = start_text\n",
        "    \n",
        "    _, hidden = model(train, hidden)\n",
        "        \n",
        "    inp = train[-1].view(-1, 1, 1)\n",
        "    \n",
        "    for i in range(prediction_len):\n",
        "        output, hidden = model(inp.to(device), hidden)\n",
        "        output_logits = output.cpu().data.view(-1)\n",
        "        p_next = F.softmax(output_logits / temp, dim=-1).detach().cpu().data.numpy()        \n",
        "        top_index = np.random.choice(len(char_to_idx), p=p_next)\n",
        "        inp = torch.LongTensor([top_index]).view(-1, 1, 1).to(device)\n",
        "        predicted_char = idx_to_char[top_index]\n",
        "        predicted_text += predicted_char\n",
        "    \n",
        "    return predicted_text"
      ],
      "metadata": {
        "id": "tKcl6cLkpGIi"
      },
      "execution_count": 6,
      "outputs": []
    },
    {
      "cell_type": "markdown",
      "source": [
        "## 2.3 Инициализация объекта рекуррентной нейронной сети"
      ],
      "metadata": {
        "id": "7xeKpLH3Kwc9"
      }
    },
    {
      "cell_type": "code",
      "source": [
        "class TextRNN(nn.Module):\n",
        "    \n",
        "    def __init__(self):\n",
        "        super(TextRNN, self).__init__()\n",
        "        \n",
        "        self.input_size = len(idx_to_char)\n",
        "        self.hidden_size = 128\n",
        "        self.embedding_size = 128\n",
        "        self.n_layers = 2\n",
        "\n",
        "        self.encoder = nn.Embedding(self.input_size, self.embedding_size)\n",
        "        self.rnn = nn.RNN(self.embedding_size, self.hidden_size, self.n_layers)\n",
        "        self.dropout = nn.Dropout(0.2)\n",
        "        self.fc = nn.Linear(self.hidden_size, self.input_size)\n",
        "        \n",
        "    def forward(self, x, hidden):\n",
        "        x = self.encoder(x).squeeze(2)\n",
        "        out, ht1 = self.rnn(x, hidden)\n",
        "        out = self.dropout(out)\n",
        "        x = self.fc(out)\n",
        "        return x, ht1\n",
        "    \n",
        "    def init_hidden(self, batch_size=1):\n",
        "        return torch.zeros(self.n_layers, batch_size, self.hidden_size, requires_grad=False).to(device)"
      ],
      "metadata": {
        "id": "mjsbLlkVSwiL"
      },
      "execution_count": 7,
      "outputs": []
    },
    {
      "cell_type": "markdown",
      "source": [
        "## 2.4 Обучение обычной рекуррентной нейронной сети"
      ],
      "metadata": {
        "id": "liOZimvTKwc-"
      }
    },
    {
      "cell_type": "code",
      "source": [
        "device = torch.device('cuda') if torch.cuda.is_available() else torch.device('cpu')\n",
        "model = TextRNN()\n",
        "model.to(device)\n",
        "\n",
        "criterion = nn.CrossEntropyLoss()\n",
        "optimizer = torch.optim.Adam(model.parameters(), lr=1e-2, amsgrad=True)\n",
        "scheduler = torch.optim.lr_scheduler.ReduceLROnPlateau(\n",
        "    optimizer, \n",
        "    patience=5, \n",
        "    verbose=True, \n",
        "    factor=0.5\n",
        ")\n",
        "\n",
        "n_epochs = 10000\n",
        "loss_avg = []\n",
        "\n",
        "for epoch in range(n_epochs):\n",
        "    model.train()\n",
        "    train, target = get_batch(sequence)\n",
        "    train = train.permute(1, 0, 2).to(device)\n",
        "    target = target.permute(1, 0, 2).to(device)\n",
        "    hidden = model.init_hidden(batch)\n",
        "\n",
        "    output, hidden = model(train, hidden)\n",
        "    loss = criterion(output.permute(1, 2, 0), target.squeeze(-1).permute(1, 0))\n",
        "    \n",
        "    loss.backward()\n",
        "    optimizer.step()\n",
        "    optimizer.zero_grad()\n",
        "    \n",
        "    loss_avg.append(loss.item())\n",
        "\n",
        "    if epoch%500 == 0:\n",
        "        print(\"\\nEpoch number: \", epoch)\n",
        "        mean_loss = np.mean(loss_avg)\n",
        "        print(f'Loss: {mean_loss}')\n",
        "        scheduler.step(mean_loss)\n",
        "        model.eval()\n",
        "        predicted_text = evaluate(model, char_to_idx, idx_to_char)\n",
        "        print(predicted_text)"
      ],
      "metadata": {
        "id": "DfTeyL-eS-nZ",
        "colab": {
          "base_uri": "https://localhost:8080/"
        },
        "outputId": "9a591e8d-f9aa-4921-9f82-7e43e9c30dfe"
      },
      "execution_count": 8,
      "outputs": [
        {
          "output_type": "stream",
          "name": "stdout",
          "text": [
            "\n",
            "Epoch number:  0\n",
            "Loss: 5.075348377227783\n",
            "              у   эЭЯГÊbДis   уз          сLQSЧвК5 ц.                   LтaGвюО6д9 Л1z;LоùГльУAXЗC5eму3сùэcoИR*Тi\"О\"Ч\"OLвcЩпÊè?LЛфу)вsПЛпм)a0q      пTБвTnФ8]омБТяfâbп6тЦзLБRРзjЭ      ЩэdгЩИTщôЯеМ6вюVâz\n",
            "\n",
            "Epoch number:  500\n",
            "Loss: 1.9930524007526937\n",
            " с  умерную  в  востоянно  он  в  он  события,  по  не  и по  столь  с  на  совершенно  в  он  в  он  столь  на  востоянность  от  собою  и  себе  не  было  привысленное  события  собранцузов   события\n",
            "\n",
            "Epoch number:  1000\n",
            "Loss: 1.8838190271423294\n",
            "  приводни   подомно  делает  он  последней,  то  востолько  востоки  и  примерного  не  воспоминая  присудерь   на  после  в  от  придвижения  и  на  востова  и  поднял в  после  при  произведение  и \n",
            "\n",
            "Epoch number:  1500\n",
            "Loss: 1.8376981018385357\n",
            "      --  Солобе  на  себя и  для  не  был  от  своем  только  не  в  нему  не  должно  событие  только  было  страшно  не  событие  событие  не  воли  должно  последней  образами,  совершенное  столе \n",
            "\n",
            "Epoch number:  2000\n",
            "Loss: 1.8120317003954536\n",
            "       [(сноска 13)]  -- которые  в  ним,  которого  приказала  и  в  ответе в  делать  и  и  войска в  солдата. В  войска  на  деревно  войска  и  на  себя  показал  в  него только  и  на  от  ней  от\n",
            "\n",
            "Epoch number:  2500\n",
            "Loss: 1.7982335573003465\n",
            "      --  Все отдельно  было  приказал  она  себе  воль  своим  воль  странно  на  своей  принимал  ответил  и  отношения  и  слова  и  положение  он  было  постова  свои слова   он  и  солдаты  он  он\n",
            "\n",
            "Epoch number:  3000\n",
            "Loss: 1.7912873217202314\n",
            "                                                                                                                                                                                                         \n",
            "\n",
            "Epoch number:  3500\n",
            "Loss: 1.7893466598066186\n",
            " на  нему  на  нем  предошины  он  подобрала  на  том  и  рассказал  он  приказала   не  приставляет  на  делала  на  ней  не  массказывало  на  все  возволи, которые  не        -- Пьер   подобрали  на\n",
            "\n",
            "Epoch number:  4000\n",
            "Loss: 1.791403995993971\n",
            "  Наташа,  и  совершенность  в  все совершенное  и  в  слушал с  все  видел  в  себе  совершении  с  свое  мого  в  него  положение  с  в он события  в  него  в  все  в того  какое  в  себе  совершенны\n",
            "\n",
            "Epoch number:  4500\n",
            "Loss: 1.7982498655528976\n",
            " разно  подобли  собою   солдата  следит  слежие  с  слова в  протавном  слова,  но  он  потому столов  не  положения        --                                                                          \n",
            "\n",
            "Epoch number:  5000\n",
            "Loss: 1.8058240087097632\n",
            "     --  То  на  всем  признанных  положения  он  поставление  после  могла  сказал  признание  сторо  на  прием  во  войска  на  свои  подорила   в  нам  на  том,  что  войска  признания  из  него  не\n",
            "\n",
            "Epoch number:  5500\n",
            "Loss: 1.8192943563419697\n",
            "                                                                                                                                                                                                         \n",
            "\n",
            "Epoch number:  6000\n",
            "Loss: 1.8399977762288717\n",
            "                 Она  от  обраствой  обрас  не  сладал  подоставление привединный  на   на не  на напали  полочисть приследни  в соборил  на на не поднем  под  приследала  на  он   в  понь  поноверной \n",
            "\n",
            "Epoch number:  6500\n",
            "Loss: 1.861590871259334\n",
            "Epoch 00014: reducing learning rate of group 0 to 5.0000e-03.\n",
            " отно  в  солдали  своей  он  солдиня  он  потом  в  в  не  собый  на  не  в  в  поставали  и  соверша  на  просило  вой  он  в  он  это  поледало  свое  в  в  в  противала  он  своей  на  свое  в   св\n",
            "\n",
            "Epoch number:  7000\n",
            "Loss: 1.870609326322425\n",
            "                В  событие  вородить  прияли  от  в  сторости  в  достольно  с  и  он  в  в событие  котором   поколовает  поставляя  в  событала  не  в  не  не  представливал  он  в событие  в  на  ка\n",
            "\n",
            "Epoch number:  7500\n",
            "Loss: 1.8747100022105818\n",
            "      -- Да  как  приказание  в  все  поднял  своей  не  поднять  представлял  в  события  на  должения   в  он  и собой  приказание  он  в  событие солдата  войски  и приказание   стором  все  собой  \n",
            "\n",
            "Epoch number:  8000\n",
            "Loss: 1.8760435235990522\n",
            "     Он от  последнение  только  в  вольно  он  от  свободе  солдат,  что  старая  в  не  на  старовала,  не  в  не  подняла  подошел  общем  только  привал  делала с такой в  поднимает  он  только  не\n",
            "\n",
            "Epoch number:  8500\n",
            "Loss: 1.8758240798798298\n",
            "       --      -- Наташа  на  он  собой  противал  не  всего  с  события  войско  стала  дела  приказание  по  с  страшну,  и  строго  поставления   не  поставления  было  противала  поставляльно  прик\n",
            "\n",
            "Epoch number:  9000\n",
            "Loss: 1.8750480611567206\n",
            "   --  --  --   --  как  он разроставляла  себя  обеждения  сторон  и  он  и  старой  привали  было  подеравил  подняла  войского  в  он  все  сторон  с   того,  как  то  придения  и не  в  поднять  пр\n",
            "\n",
            "Epoch number:  9500\n",
            "Loss: 1.8733936429914582\n",
            "Epoch 00020: reducing learning rate of group 0 to 2.5000e-03.\n",
            "     --  Он  подле  старая  в  странно  было  в  проставить  от  просто  поднять  не  в  продолжал  после  он  должения  было  поделать  столько  своей  войска  приведное  в  свои  он  представляется  \n"
          ]
        }
      ]
    },
    {
      "cell_type": "markdown",
      "source": [
        "## 2.5 Генерация текстов при помощи обычной рекуррентной сети"
      ],
      "metadata": {
        "id": "2K6Inp-qKwc_"
      }
    },
    {
      "cell_type": "code",
      "source": [
        "model.eval()\n",
        "model.eval()\n",
        "print(evaluate(\n",
        "    model, \n",
        "    char_to_idx, \n",
        "    idx_to_char, \n",
        "    temp=0.3, \n",
        "    prediction_len=200, \n",
        "    start_text='Большой дуб '\n",
        "    )\n",
        ")"
      ],
      "metadata": {
        "id": "JRt6j0VsKhdW",
        "colab": {
          "base_uri": "https://localhost:8080/"
        },
        "outputId": "c03d9049-018d-4df1-ea77-fdb781d94096"
      },
      "execution_count": 9,
      "outputs": [
        {
          "output_type": "stream",
          "name": "stdout",
          "text": [
            "Большой дуб войска  все  привознить  события  не  поставление  солдатами  события  события  составлялись  на  не  с  старая  он  войска  события  величивал  поднялся  в  поступого  делал  совершить  подошел  пост\n"
          ]
        }
      ]
    },
    {
      "cell_type": "markdown",
      "source": [
        "## 2.6 Обучение рекуррентной нейронной сети с LSTM-ячейками"
      ],
      "metadata": {
        "id": "PQIhCxJsLRZA"
      }
    },
    {
      "cell_type": "code",
      "source": [
        "def evaluate(model, char_to_idx, idx_to_char, start_text=' ', prediction_len=200, temp=0.3):\n",
        "    hidden = model.init_hidden()\n",
        "    idx_input = [char_to_idx[char] for char in start_text]\n",
        "    train = torch.LongTensor(idx_input).view(-1, 1, 1).to(device)\n",
        "    predicted_text = start_text\n",
        "    \n",
        "    _, hidden = model(train, hidden)\n",
        "        \n",
        "    inp = train[-1].view(-1, 1, 1)\n",
        "    \n",
        "    for i in range(prediction_len):\n",
        "        output, hidden = model(inp.to(device), hidden)\n",
        "        output_logits = output.cpu().data.view(-1)\n",
        "        p_next = F.softmax(output_logits / temp, dim=-1).detach().cpu().data.numpy()        \n",
        "        top_index = np.random.choice(len(char_to_idx), p=p_next)\n",
        "        inp = torch.LongTensor([top_index]).view(-1, 1, 1).to(device)\n",
        "        predicted_char = idx_to_char[top_index]\n",
        "        predicted_text += predicted_char\n",
        "    \n",
        "    return predicted_text"
      ],
      "metadata": {
        "id": "hzGeu7iXLRfl"
      },
      "execution_count": 10,
      "outputs": []
    },
    {
      "cell_type": "code",
      "source": [
        "class LTSM(nn.Module):\n",
        "    \n",
        "    def __init__(self):\n",
        "        super(LTSM, self).__init__()\n",
        "        \n",
        "        self.input_size = len(idx_to_char)\n",
        "        self.hidden_size = 128\n",
        "        self.embedding_size = 128\n",
        "        self.n_layers = 2\n",
        "\n",
        "        self.encoder = nn.Embedding(self.input_size, self.embedding_size)\n",
        "        self.lstm = nn.LSTM(self.embedding_size, self.hidden_size, self.n_layers)\n",
        "        self.dropout = nn.Dropout(0.2)\n",
        "        self.fc = nn.Linear(self.hidden_size, self.input_size)\n",
        "        \n",
        "    def forward(self, x, hidden):\n",
        "        x = self.encoder(x).squeeze(2)\n",
        "        out, (ht1, ct1) = self.lstm(x, hidden)\n",
        "        out = self.dropout(out)\n",
        "        x = self.fc(out)\n",
        "        return x, (ht1, ct1)\n",
        "    \n",
        "    def init_hidden(self, batch_size=1):\n",
        "        return (torch.zeros(self.n_layers, batch_size, self.hidden_size, requires_grad=True).to(device),\n",
        "               torch.zeros(self.n_layers, batch_size, self.hidden_size, requires_grad=True).to(device))"
      ],
      "metadata": {
        "id": "EPcQwJyMs9-j"
      },
      "execution_count": 11,
      "outputs": []
    },
    {
      "cell_type": "code",
      "source": [
        "model = LTSM()\n",
        "model.to(device)\n",
        "\n",
        "criterion = nn.CrossEntropyLoss()\n",
        "optimizer = torch.optim.Adam(model.parameters(), lr=1e-2, amsgrad=True)\n",
        "scheduler = torch.optim.lr_scheduler.ReduceLROnPlateau(\n",
        "    optimizer, \n",
        "    patience=5, \n",
        "    verbose=True, \n",
        "    factor=0.5\n",
        ")\n",
        "\n",
        "n_epochs = 10000\n",
        "loss_avg = []\n",
        "\n",
        "for epoch in range(n_epochs):\n",
        "    model.train()\n",
        "    train, target = get_batch(sequence)\n",
        "    train = train.permute(1, 0, 2).to(device)\n",
        "    target = target.permute(1, 0, 2).to(device)\n",
        "    hidden = model.init_hidden(batch)\n",
        "\n",
        "    output, hidden = model(train, hidden)\n",
        "    loss = criterion(output.permute(1, 2, 0), target.squeeze(-1).permute(1, 0))\n",
        "    \n",
        "    loss.backward()\n",
        "    optimizer.step()\n",
        "    optimizer.zero_grad()\n",
        "    \n",
        "    loss_avg.append(loss.item())"
      ],
      "metadata": {
        "id": "md0pQjditHW3"
      },
      "execution_count": 16,
      "outputs": []
    },
    {
      "cell_type": "code",
      "source": [
        "model.eval()\n",
        "model.eval()\n",
        "print(evaluate(\n",
        "    model, \n",
        "    char_to_idx, \n",
        "    idx_to_char, \n",
        "    temp=0.3, \n",
        "    prediction_len=200, \n",
        "    start_text='Большой дуб '\n",
        "    )\n",
        ")"
      ],
      "metadata": {
        "colab": {
          "base_uri": "https://localhost:8080/"
        },
        "id": "dkcWAyL_uFuB",
        "outputId": "9965635c-fc8b-47aa-b190-168b7fff33ab"
      },
      "execution_count": 14,
      "outputs": [
        {
          "output_type": "stream",
          "name": "stdout",
          "text": [
            "Большой дуб и  которые  в  своей  событие  и  в  представлялся  и  только  о нем  в  наших  войска  с  собой  в  другой  того, что он  не  событий  в  том, что  он  не  поступка  и  по\n",
            "   собой  в  своей  положен\n"
          ]
        }
      ]
    },
    {
      "cell_type": "markdown",
      "source": [
        "## 2.7 Генерация текстов с разной температурой\n",
        "\n",
        "Попробуйте сгенерировать тексты с температурой из списка: `[0.1, 0.2, 0.4, 0.6, 0.8, 1.0]` (см. нотубук с семинара по RNN)"
      ],
      "metadata": {
        "id": "hodfK4dxLWO3"
      }
    },
    {
      "cell_type": "code",
      "source": [
        "temps = [0.1, 0.2, 0.4, 0.6, 0.8, 1.0]\n",
        "\n",
        "for temp in temps:\n",
        "  model.eval()\n",
        "  print(evaluate(\n",
        "      model, \n",
        "      char_to_idx, \n",
        "      idx_to_char, \n",
        "      temp=temp, \n",
        "      prediction_len=200, \n",
        "      start_text='Большой дуб '\n",
        "      )\n",
        "  )"
      ],
      "metadata": {
        "id": "5SsbA8hSLWWJ",
        "colab": {
          "base_uri": "https://localhost:8080/"
        },
        "outputId": "920e7b4b-8369-46e5-e34c-6fb95ffb8878"
      },
      "execution_count": 15,
      "outputs": [
        {
          "output_type": "stream",
          "name": "stdout",
          "text": [
            "Большой дуб и  не  поступка  и  в  своей  не  страшно  подошел  и  не  страшно  в  своей  войска  с  события  и  он  не  поступка  и  он  не  последний  события  и  в  своей  не  странно  и  не  странно  и  не  с\n",
            "Большой дуб и  не  стараясь  в  общего  и  не  страх  столько  представлялась  о  события  и  события  и  он  поступка  и  совершенно  до  причина  и  в  настоящего  на  солдат  и  не  подошла  и  просто  и  в  с\n",
            "Большой дуб с  свои  солдат  и  события в  делами и  поступились  и  последние  и  все  не  только  в  дверь  день к нему в  больше  в  дороге,  и  в  восторженное  на  всем  событиями  и  припадавшиеся  от  них \n",
            "Большой дуб не делала  оправдания страдания голову\n",
            "   отвечали причина, но простопить причино  и  ты  сказала и  в  детских  сила  только милых в удивлялось ее\n",
            "   мальчик  невозможных поступившими  движение  было\n",
            "Большой дуб чувства, светился о получие, до  нем вопросов\n",
            "   конеясятно и представлялись и не  было, как  видимо,  которые повернулась  и  как он\n",
            "   думаешь. Соня   полюбилась понятениех  тогда не  было испереди,\n",
            "Большой дуб бывает вас понять мы не\n",
            "   более и взял в тое наши встретивший  маршительна действие,  на  одного  его\n",
            "   движению ее шерего из  рассуждений ее я искубок и план.\n",
            "        Груда  танца так вположить  ша\n"
          ]
        }
      ]
    },
    {
      "cell_type": "markdown",
      "source": [
        "## 2.8 Выводы"
      ],
      "metadata": {
        "id": "wmkAq2N7LdzA"
      }
    },
    {
      "cell_type": "markdown",
      "source": [
        "Обычная рекуррентная сеть дает меньшую точность и генерирует менее подходящие по смыслу тексты."
      ],
      "metadata": {
        "id": "KdFzjKnbV4yG"
      }
    }
  ]
}